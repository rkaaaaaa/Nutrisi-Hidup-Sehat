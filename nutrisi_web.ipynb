{
 "cells": [
  {
   "cell_type": "markdown",
   "metadata": {},
   "source": [
    "1. Home"
   ]
  },
  {
   "cell_type": "code",
   "execution_count": null,
   "metadata": {},
   "outputs": [
    {
     "data": {
      "application/vnd.jupyter.widget-view+json": {
       "model_id": "215964d37875484a9caca57d788f58e8",
       "version_major": 2,
       "version_minor": 0
      },
      "text/plain": [
       "HTML(value='<table border=\"1\" class=\"dataframe\">\\n  <thead>\\n    <tr style=\"text-align: right;\">\\n      <th></…"
      ]
     },
     "metadata": {},
     "output_type": "display_data"
    },
    {
     "data": {
      "application/vnd.jupyter.widget-view+json": {
       "model_id": "b5966089204745d895725fbf0ac36780",
       "version_major": 2,
       "version_minor": 0
      },
      "text/plain": [
       "IntSlider(value=50, description='Kalori:', max=120, min=50, step=10)"
      ]
     },
     "metadata": {},
     "output_type": "display_data"
    },
    {
     "data": {
      "application/vnd.jupyter.widget-view+json": {
       "model_id": "be4ed0ed913b416e963277e5cc6a0cb9",
       "version_major": 2,
       "version_minor": 0
      },
      "text/plain": [
       "HTML(value='<table border=\"1\" class=\"dataframe\">\\n  <thead>\\n    <tr style=\"text-align: right;\">\\n      <th></…"
      ]
     },
     "metadata": {},
     "output_type": "display_data"
    }
   ],
   "source": [
    "import pandas as pd\n",
    "import ipywidgets as widgets\n",
    "from IPython.display import display\n",
    "\n",
    "# Contoh data\n",
    "data = pd.DataFrame({'Nama': ['Buah Apel', 'Buah Pisang', 'Sayuran Brokoli'],\n",
    "                    'Kalori': [100, 120, 50],\n",
    "                    'Vitamin C': [10, 5, 20]})\n",
    "\n",
    "# Menampilkan tabel data\n",
    "display(widgets.HTML(value=data.to_html()))\n",
    "\n",
    "# Membuat slider interaktif untuk filter\n",
    "slider_kalori = widgets.IntSlider(\n",
    "    min=data['Kalori'].min(),\n",
    "    max=data['Kalori'].max(),\n",
    "    step=10,\n",
    "    description='Kalori:'\n",
    ")\n",
    "\n",
    "# Menampilkan slider dan output\n",
    "display(slider_kalori)\n",
    "\n",
    "def filter_data(change):\n",
    "    kalori_filter = slider_kalori.value\n",
    "    filtered_data = data[data['Kalori'] <= kalori_filter]\n",
    "    display(widgets.HTML(value=filtered_data.to_html()))\n",
    "\n",
    "slider_kalori.observe(filter_data, names='value')\n",
    "\n",
    "# Menampilkan output awal\n",
    "filter_data(None)"
   ]
  },
  {
   "cell_type": "markdown",
   "metadata": {},
   "source": [
    "3. Visualisasi"
   ]
  },
  {
   "cell_type": "code",
   "execution_count": null,
   "metadata": {},
   "outputs": [],
   "source": [
    "# Import library\n",
    "import pandas as pd\n",
    "import matplotlib.pyplot as plt\n",
    "import seaborn as sns\n",
    "from wordcloud import WordCloud\n",
    "\n",
    "# Memuat data\n",
    "DATA_PATH = \"Food_Nutrition.csv\"\n",
    "\n",
    "# Memuat file CSV dengan delimiter yang sesuai\n",
    "try:\n",
    "    df = pd.read_csv(DATA_PATH, delimiter=',', encoding='utf-8')\n",
    "except pd.errors.ParserError:\n",
    "    df = pd.read_csv(DATA_PATH, delimiter=';', encoding='utf-8')\n",
    "\n",
    "# Fungsi untuk visualisasi\n",
    "def distribusi_usia():\n",
    "    \"\"\"Histogram Distribusi Usia\"\"\"\n",
    "    plt.figure(figsize=(12, 8))\n",
    "    plt.hist(df['Ages'], bins=10, color='skyblue', edgecolor='black', alpha=0.7)\n",
    "    plt.xlabel('Usia', fontsize=14)\n",
    "    plt.ylabel('Jumlah', fontsize=14)\n",
    "    plt.title('Distribusi Usia', fontsize=16, fontweight='bold')\n",
    "    plt.grid(color='gray', linestyle='--', linewidth=0.5, alpha=0.7)\n",
    "    plt.show()\n",
    "\n",
    "def hubungan_berat_tinggi():\n",
    "    \"\"\"Scatter Plot Hubungan Berat dan Tinggi Badan\"\"\"\n",
    "    plt.figure(figsize=(12, 8))\n",
    "    scatter = plt.scatter(\n",
    "        df['Weight'], df['Height'], \n",
    "        c=df['Daily Calorie Target'], cmap='viridis', alpha=0.7, edgecolor='k'\n",
    "    )\n",
    "    plt.xlabel('Berat Badan (kg)', fontsize=14)\n",
    "    plt.ylabel('Tinggi Badan (cm)', fontsize=14)\n",
    "    plt.title('Hubungan Berat Badan dan Tinggi Badan', fontsize=16, fontweight='bold')\n",
    "    plt.grid(color='gray', linestyle='--', linewidth=0.5, alpha=0.7)\n",
    "    cbar = plt.colorbar(scatter)\n",
    "    cbar.set_label('Target Kalori Harian', fontsize=12)\n",
    "    plt.show()\n",
    "\n",
    "def scatter_plot_interaktif(x_axis, y_axis):\n",
    "    \"\"\"Scatter Plot Interaktif\"\"\"\n",
    "    plt.figure(figsize=(12, 8))\n",
    "    plt.scatter(df[x_axis], df[y_axis], alpha=0.7, edgecolor='k', color='purple')\n",
    "    plt.xlabel(x_axis, fontsize=14)\n",
    "    plt.ylabel(y_axis, fontsize=14)\n",
    "    plt.title(f\"Scatter Plot {y_axis} vs {x_axis}\", fontsize=16, fontweight='bold')\n",
    "    plt.grid(color='gray', linestyle='--', linewidth=0.5, alpha=0.7)\n",
    "    plt.show()\n",
    "\n",
    "def word_cloud():\n",
    "    \"\"\"Word Cloud dari Preferensi Diet\"\"\"\n",
    "    # Menggabungkan semua teks dari kolom Dietary Preference\n",
    "    text = \" \".join(df[\"Dietary Preference\"].dropna().astype(str))\n",
    "    wordcloud = WordCloud(width=800, height=400, background_color='white').generate(text)\n",
    "    \n",
    "    # Menampilkan Word Cloud\n",
    "    plt.figure(figsize=(12, 8))\n",
    "    plt.imshow(wordcloud, interpolation='bilinear')\n",
    "    plt.axis(\"off\")\n",
    "    plt.title(\"Word Cloud: Preferensi Diet\", fontsize=16, fontweight='bold')\n",
    "    plt.show()\n",
    "\n",
    "# Menu visualisasi\n",
    "print(\"Pilih visualisasi:\")\n",
    "print(\"1. Distribusi Usia\")\n",
    "print(\"2. Hubungan Berat dan Tinggi Badan\")\n",
    "print(\"3. Scatter Plot Interaktif\")\n",
    "print(\"4. Word Cloud\")\n",
    "choice = int(input(\"Masukkan pilihan (1-4): \"))\n",
    "\n",
    "if choice == 1:\n",
    "    distribusi_usia()\n",
    "elif choice == 2:\n",
    "    hubungan_berat_tinggi()\n",
    "elif choice == 3:\n",
    "    print(\"\\nKolom tersedia:\", df.columns.tolist())\n",
    "    x_axis = input(\"Pilih kolom untuk sumbu X: \")\n",
    "    y_axis = input(\"Pilih kolom untuk sumbu Y: \")\n",
    "    scatter_plot_interaktif(x_axis, y_axis)\n",
    "elif choice == 4:\n",
    "    word_cloud()\n",
    "else:\n",
    "    print(\"Pilihan tidak valid!\")\n"
   ]
  }
 ],
 "metadata": {
  "kernelspec": {
   "display_name": "Python 3",
   "language": "python",
   "name": "python3"
  },
  "language_info": {
   "codemirror_mode": {
    "name": "ipython",
    "version": 3
   },
   "file_extension": ".py",
   "mimetype": "text/x-python",
   "name": "python",
   "nbconvert_exporter": "python",
   "pygments_lexer": "ipython3",
   "version": "3.12.6"
  }
 },
 "nbformat": 4,
 "nbformat_minor": 2
}
