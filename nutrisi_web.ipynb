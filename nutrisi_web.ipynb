{
 "cells": [
  {
   "cell_type": "markdown",
   "metadata": {},
   "source": [
    "1. Home"
   ]
  },
  {
   "cell_type": "code",
   "execution_count": null,
   "metadata": {},
   "outputs": [
    {
     "data": {
      "application/vnd.jupyter.widget-view+json": {
       "model_id": "215964d37875484a9caca57d788f58e8",
       "version_major": 2,
       "version_minor": 0
      },
      "text/plain": [
       "HTML(value='<table border=\"1\" class=\"dataframe\">\\n  <thead>\\n    <tr style=\"text-align: right;\">\\n      <th></…"
      ]
     },
     "metadata": {},
     "output_type": "display_data"
    },
    {
     "data": {
      "application/vnd.jupyter.widget-view+json": {
       "model_id": "b5966089204745d895725fbf0ac36780",
       "version_major": 2,
       "version_minor": 0
      },
      "text/plain": [
       "IntSlider(value=50, description='Kalori:', max=120, min=50, step=10)"
      ]
     },
     "metadata": {},
     "output_type": "display_data"
    },
    {
     "data": {
      "application/vnd.jupyter.widget-view+json": {
       "model_id": "be4ed0ed913b416e963277e5cc6a0cb9",
       "version_major": 2,
       "version_minor": 0
      },
      "text/plain": [
       "HTML(value='<table border=\"1\" class=\"dataframe\">\\n  <thead>\\n    <tr style=\"text-align: right;\">\\n      <th></…"
      ]
     },
     "metadata": {},
     "output_type": "display_data"
    }
   ],
   "source": [
    "import pandas as pd\n",
    "import ipywidgets as widgets\n",
    "from IPython.display import display\n",
    "\n",
    "# Contoh data\n",
    "data = pd.DataFrame({'Nama': ['Buah Apel', 'Buah Pisang', 'Sayuran Brokoli'],\n",
    "                    'Kalori': [100, 120, 50],\n",
    "                    'Vitamin C': [10, 5, 20]})\n",
    "\n",
    "# Menampilkan tabel data\n",
    "display(widgets.HTML(value=data.to_html()))\n",
    "\n",
    "# Membuat slider interaktif untuk filter\n",
    "slider_kalori = widgets.IntSlider(\n",
    "    min=data['Kalori'].min(),\n",
    "    max=data['Kalori'].max(),\n",
    "    step=10,\n",
    "    description='Kalori:'\n",
    ")\n",
    "\n",
    "# Menampilkan slider dan output\n",
    "display(slider_kalori)\n",
    "\n",
    "def filter_data(change):\n",
    "    kalori_filter = slider_kalori.value\n",
    "    filtered_data = data[data['Kalori'] <= kalori_filter]\n",
    "    display(widgets.HTML(value=filtered_data.to_html()))\n",
    "\n",
    "slider_kalori.observe(filter_data, names='value')\n",
    "\n",
    "# Menampilkan output awal\n",
    "filter_data(None)"
   ]
  }
 ],
 "metadata": {
  "kernelspec": {
   "display_name": "Python 3",
   "language": "python",
   "name": "python3"
  },
  "language_info": {
   "codemirror_mode": {
    "name": "ipython",
    "version": 3
   },
   "file_extension": ".py",
   "mimetype": "text/x-python",
   "name": "python",
   "nbconvert_exporter": "python",
   "pygments_lexer": "ipython3",
   "version": "3.12.6"
  }
 },
 "nbformat": 4,
 "nbformat_minor": 2
}
